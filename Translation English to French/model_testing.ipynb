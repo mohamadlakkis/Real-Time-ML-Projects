{
 "cells": [
  {
   "cell_type": "code",
   "execution_count": 3,
   "metadata": {},
   "outputs": [
    {
     "name": "stderr",
     "output_type": "stream",
     "text": [
      "[nltk_data] Downloading package punkt to /home/mnl/nltk_data...\n",
      "[nltk_data]   Package punkt is already up-to-date!\n",
      "[nltk_data] Downloading package punkt_tab to /home/mnl/nltk_data...\n",
      "[nltk_data]   Package punkt_tab is already up-to-date!\n"
     ]
    },
    {
     "data": {
      "text/plain": [
       "True"
      ]
     },
     "execution_count": 3,
     "metadata": {},
     "output_type": "execute_result"
    }
   ],
   "source": [
    "import nltk\n",
    "from nltk.tokenize import word_tokenize\n",
    "import pandas as pd\n",
    "import nltk\n",
    "from nltk.tokenize import word_tokenize\n",
    "import pandas as pd\n",
    "nltk.download('punkt')\n",
    "nltk.download('punkt_tab')"
   ]
  },
  {
   "cell_type": "code",
   "execution_count": 2,
   "metadata": {},
   "outputs": [
    {
     "name": "stdout",
     "output_type": "stream",
     "text": [
      "                                             English  \\\n",
      "0  the united states is usually chilly during jul...   \n",
      "1  california is usually quiet during march , and...   \n",
      "2  the united states is sometimes mild during jun...   \n",
      "3  your least liked fruit is the grape , but my l...   \n",
      "4  his favorite fruit is the orange , but my favo...   \n",
      "\n",
      "                                              French  \n",
      "0  les états-unis est généralement froid en juill...  \n",
      "1  california est généralement calme en mars , et...  \n",
      "2  les états-unis est parfois légère en juin , et...  \n",
      "3  votre moins aimé fruit est le raisin , mais mo...  \n",
      "4  son fruit préféré est l'orange , mais mon préf...  \n"
     ]
    }
   ],
   "source": [
    "en = pd.read_csv('Datasets/en.csv')\n",
    "fr = pd.read_csv('Datasets/fr.csv')\n",
    "english_sentences = en.iloc[:, 0]\n",
    "french_sentences = fr.iloc[:, 0]\n",
    "en.columns = ['English']\n",
    "fr.columns = ['French']\n",
    "combined_df = pd.concat([en, fr], axis=1)\n",
    "print(combined_df.head())"
   ]
  },
  {
   "cell_type": "code",
   "execution_count": null,
   "metadata": {},
   "outputs": [],
   "source": [
    "def tokenize_sentences(sentences):\n",
    "    return [word_tokenize(sentence.lower()) for sentence in sentences]\n",
    "english_tokenized = tokenize_sentences(english_sentences)\n",
    "french_tokenized = tokenize_sentences(french_sentences)\n"
   ]
  },
  {
   "cell_type": "code",
   "execution_count": null,
   "metadata": {},
   "outputs": [],
   "source": [
    "print(\"English Tokenized:\", english_tokenized)"
   ]
  }
 ],
 "metadata": {
  "kernelspec": {
   "display_name": "Python 3",
   "language": "python",
   "name": "python3"
  },
  "language_info": {
   "codemirror_mode": {
    "name": "ipython",
    "version": 3
   },
   "file_extension": ".py",
   "mimetype": "text/x-python",
   "name": "python",
   "nbconvert_exporter": "python",
   "pygments_lexer": "ipython3",
   "version": "3.10.12"
  }
 },
 "nbformat": 4,
 "nbformat_minor": 2
}
