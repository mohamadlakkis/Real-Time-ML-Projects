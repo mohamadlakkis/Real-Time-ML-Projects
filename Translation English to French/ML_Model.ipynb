{
 "cells": [
  {
   "cell_type": "markdown",
   "metadata": {
    "id": "xiC75uo6u_Of"
   },
   "source": [
    "##Machine Translation Using a Seq2Seq Architecture\n",
    "\n",
    "---\n",
    "The goal of this colab is to get you more familiar with the Seq2Seq models and their challenges. For this reason, you will be working on machine translation problem where we would have a sentence as input (in english), and the output is gonna be the translated sentence (in french). So just like what happens with Google Translate.\n"
   ]
  },
  {
   "cell_type": "markdown",
   "metadata": {
    "id": "TeK4LPupvg_c"
   },
   "source": [
    "**Just to give you a heads up:** We won't be having a model performing like Google translate, but at least we will have an idea about how Google Translate works and the challenges that exist with a translation problem.  "
   ]
  },
  {
   "cell_type": "markdown",
   "metadata": {
    "id": "SBTvDTzBv293"
   },
   "source": [
    "## Importing Libraries"
   ]
  },
  {
   "cell_type": "markdown",
   "metadata": {
    "id": "4_j1ZzS3v6N3"
   },
   "source": [
    "We start by importing numpy and pandas and then we can add the rest"
   ]
  },
  {
   "cell_type": "code",
   "execution_count": null,
   "metadata": {
    "id": "n0IARXAX1e1m"
   },
   "outputs": [
    {
     "name": "stderr",
     "output_type": "stream",
     "text": [
      "[nltk_data] Downloading package punkt to /home/mnl/nltk_data...\n",
      "[nltk_data]   Package punkt is already up-to-date!\n",
      "[nltk_data] Downloading package punkt_tab to /home/mnl/nltk_data...\n",
      "[nltk_data]   Package punkt_tab is already up-to-date!\n"
     ]
    }
   ],
   "source": [
    "import nltk\n",
    "from nltk.tokenize import word_tokenize\n",
    "import pandas as pd\n",
    "nltk.download('punkt')\n",
    "nltk.download('punkt_tab')\n",
    "import matplotlib.pyplot as plt\n",
    "import string\n",
    "import torch\n",
    "from torch import nn\n",
    "from torch.utils.data import DataLoader, TensorDataset, Dataset\n",
    "from torch.nn.utils.rnn import pack_padded_sequence\n",
    "import random"
   ]
  },
  {
   "cell_type": "markdown",
   "metadata": {
    "id": "vAcLqZ7uv-SJ"
   },
   "source": [
    "Upload your data here. Here is the [Drive link](https://drive.google.com/drive/folders/10ncj3w7kI9GPx_rz-WfKEGCv4Dz1EYf6?usp=sharing)"
   ]
  },
  {
   "cell_type": "markdown",
   "metadata": {
    "id": "i3hLN42axOjn"
   },
   "source": [
    "## Getting the data"
   ]
  },
  {
   "cell_type": "code",
   "execution_count": 3,
   "metadata": {
    "id": "0-M7cFxTPpqy"
   },
   "outputs": [],
   "source": [
    "en = pd.read_csv('Datasets/en.csv')\n",
    "fr = pd.read_csv('Datasets/fr.csv')\n",
    "english_sentences = en.iloc[:, 0]\n",
    "french_sentences = fr.iloc[:, 0]"
   ]
  },
  {
   "cell_type": "markdown",
   "metadata": {
    "id": "jr8OO1OhwSp4"
   },
   "source": [
    "**How many sentences does each of the files contain?**"
   ]
  },
  {
   "cell_type": "code",
   "execution_count": 4,
   "metadata": {
    "id": "XhWJP-b02HKq"
   },
   "outputs": [
    {
     "data": {
      "text/plain": [
       "(137859, 137859)"
      ]
     },
     "execution_count": 4,
     "metadata": {},
     "output_type": "execute_result"
    }
   ],
   "source": [
    "len(english_sentences), len(french_sentences)"
   ]
  },
  {
   "cell_type": "markdown",
   "metadata": {
    "id": "ITGJN5tIwkDO"
   },
   "source": [
    "Now let us concatenate the 2 dataframes into one dataframe that we call **df** where one column has the english senetnces and the other has the french sentences"
   ]
  },
  {
   "cell_type": "code",
   "execution_count": 5,
   "metadata": {
    "id": "-ZXxahsB2njn"
   },
   "outputs": [
    {
     "name": "stdout",
     "output_type": "stream",
     "text": [
      "                                             English  \\\n",
      "0  the united states is usually chilly during jul...   \n",
      "1  california is usually quiet during march , and...   \n",
      "2  the united states is sometimes mild during jun...   \n",
      "3  your least liked fruit is the grape , but my l...   \n",
      "4  his favorite fruit is the orange , but my favo...   \n",
      "\n",
      "                                              French  \n",
      "0  les états-unis est généralement froid en juill...  \n",
      "1  california est généralement calme en mars , et...  \n",
      "2  les états-unis est parfois légère en juin , et...  \n",
      "3  votre moins aimé fruit est le raisin , mais mo...  \n",
      "4  son fruit préféré est l'orange , mais mon préf...  \n"
     ]
    }
   ],
   "source": [
    "en.columns = ['English']\n",
    "fr.columns = ['French']\n",
    "combined_df = pd.concat([en, fr], axis=1)\n",
    "print(combined_df.head())"
   ]
  },
  {
   "cell_type": "markdown",
   "metadata": {
    "id": "4xc1TsEHw9yC"
   },
   "source": [
    "Pick a sentence and print it in both languages"
   ]
  },
  {
   "cell_type": "code",
   "execution_count": 6,
   "metadata": {
    "id": "QuRVWch23ujo"
   },
   "outputs": [
    {
     "name": "stdout",
     "output_type": "stream",
     "text": [
      "the united states is usually chilly during july , and it is usually freezing in november .\n",
      "les états-unis est généralement froid en juillet , et il gèle habituellement en novembre .\n"
     ]
    }
   ],
   "source": [
    "print(combined_df.iloc[0, 0])\n",
    "print(combined_df.iloc[0, 1])"
   ]
  },
  {
   "cell_type": "markdown",
   "metadata": {
    "id": "FQjXYP1txFCi"
   },
   "source": [
    "##Cleaning Data"
   ]
  },
  {
   "cell_type": "markdown",
   "metadata": {
    "id": "xgz6jIoVxHUF"
   },
   "source": [
    "The data that we have is almost clean as we can see, we just need to remove the punctuations inside of it."
   ]
  },
  {
   "cell_type": "code",
   "execution_count": 7,
   "metadata": {
    "id": "6YYOt5QftcFI"
   },
   "outputs": [],
   "source": [
    "'''remove the punctuation'''\n",
    "combined_df['English'] = combined_df['English'].apply(lambda x: x.translate(str.maketrans('', '', string.punctuation)))\n",
    "combined_df['French'] = combined_df['French'].apply(lambda x: x.translate(str.maketrans('', '', string.punctuation)))\n",
    "\n",
    "''' convert to lowercase'''\n",
    "combined_df['English'] = combined_df['English'].apply(lambda x: x.lower())\n",
    "combined_df['French'] = combined_df['French'].apply(lambda x: x.lower())"
   ]
  },
  {
   "cell_type": "markdown",
   "metadata": {
    "id": "0C1qsC9LxZPb"
   },
   "source": [
    "Make sure that the punctuation is removed by printing the example that you printed earlier."
   ]
  },
  {
   "cell_type": "code",
   "execution_count": 8,
   "metadata": {
    "id": "T80tiWxe84G7"
   },
   "outputs": [
    {
     "data": {
      "text/plain": [
       "('the united states is usually chilly during july  and it is usually freezing in november ',\n",
       " 'les étatsunis est généralement froid en juillet  et il gèle habituellement en novembre ')"
      ]
     },
     "execution_count": 8,
     "metadata": {},
     "output_type": "execute_result"
    }
   ],
   "source": [
    "combined_df.iloc[0, 0], combined_df.iloc[0, 1]"
   ]
  },
  {
   "cell_type": "markdown",
   "metadata": {
    "id": "ZuFNjoBAx4oN"
   },
   "source": [
    "##Exploring the Data"
   ]
  },
  {
   "cell_type": "markdown",
   "metadata": {
    "id": "ATfefzPExi2k"
   },
   "source": [
    "Add a column **ENG Length** to the dataset that shows how many words does a sentence contain, and do the same for french in a column called **FR Length**"
   ]
  },
  {
   "cell_type": "code",
   "execution_count": 9,
   "metadata": {
    "id": "Dakeo81s352S"
   },
   "outputs": [
    {
     "name": "stdout",
     "output_type": "stream",
     "text": [
      "                                             English  \\\n",
      "0  the united states is usually chilly during jul...   \n",
      "1  california is usually quiet during march  and ...   \n",
      "2  the united states is sometimes mild during jun...   \n",
      "3  your least liked fruit is the grape  but my le...   \n",
      "4  his favorite fruit is the orange  but my favor...   \n",
      "\n",
      "                                              French  ENG Length  FR Length  \n",
      "0  les étatsunis est généralement froid en juille...          15         13  \n",
      "1  california est généralement calme en mars  et ...          13         13  \n",
      "2  les étatsunis est parfois légère en juin  et i...          14         13  \n",
      "3  votre moins aimé fruit est le raisin  mais mon...          14         14  \n",
      "4  son fruit préféré est lorange  mais mon préfér...          12         11  \n"
     ]
    }
   ],
   "source": [
    "# add a column to the dataframe called \"ENG Length\" and \"FR Length\" that contains the length of the English and French sentences respectively\n",
    "combined_df['ENG Length'] = combined_df['English'].apply(lambda x: len(x.split()))\n",
    "combined_df['FR Length'] = combined_df['French'].apply(lambda x: len(x.split()))\n",
    "\n",
    "print(combined_df.head())\n"
   ]
  },
  {
   "cell_type": "markdown",
   "metadata": {
    "id": "AjQLW0K5xwx1"
   },
   "source": [
    "Visualize the distribution of the lengths of english sentences and french sentences."
   ]
  },
  {
   "cell_type": "code",
   "execution_count": 10,
   "metadata": {
    "id": "_q_UIMJ09L24"
   },
   "outputs": [
    {
     "data": {
      "image/png": "[encoded data removed]",
      "text/plain": [
       "<Figure size 1200x600 with 1 Axes>"
      ]
     },
     "metadata": {},
     "output_type": "display_data"
    }
   ],
   "source": [
    "plt.figure(figsize=(12, 6))\n",
    "plt.hist(combined_df['ENG Length'], bins=10, alpha=0.5, label='English Sentence Lengths',density=True) # density=True normalizes the data\n",
    "plt.hist(combined_df['FR Length'], bins=10, alpha=0.5, label='French Sentence Lengths', density=True) # density=True normalizes the data (getting an approximation of the pdf)\n",
    "plt.xlabel('Sentence Length (Word Count)')\n",
    "plt.ylabel('Frequency')\n",
    "plt.title('Distribution of Sentence Lengths (English vs. French)')\n",
    "plt.legend()\n",
    "\n",
    "plt.show()"
   ]
  },
  {
   "cell_type": "markdown",
   "metadata": {
    "id": "BDXb2d9ix9DV"
   },
   "source": [
    "Get the maximum length of an english sentence and the maximum length of a french sentence."
   ]
  },
  {
   "cell_type": "code",
   "execution_count": 11,
   "metadata": {
    "id": "BpnBB04U_lHd"
   },
   "outputs": [
    {
     "data": {
      "text/plain": [
       "(np.int64(15), np.int64(21))"
      ]
     },
     "execution_count": 11,
     "metadata": {},
     "output_type": "execute_result"
    }
   ],
   "source": [
    "max_eng_length = combined_df['ENG Length'].max()\n",
    "max_fr_length = combined_df['FR Length'].max()\n",
    "max_eng_length, max_fr_length"
   ]
  },
  {
   "cell_type": "markdown",
   "metadata": {
    "id": "s4s-spsRyGJv"
   },
   "source": [
    "##Preprocessing the Data"
   ]
  },
  {
   "cell_type": "markdown",
   "metadata": {
    "id": "N0ZmIT2GyJMU"
   },
   "source": [
    "In order for the data to be fed to the model, it has to be tokenized and padded."
   ]
  },
  {
   "cell_type": "markdown",
   "metadata": {
    "id": "R0r9z-eErm9H"
   },
   "source": [
    "####Tokenization"
   ]
  },
  {
   "cell_type": "markdown",
   "metadata": {
    "id": "X5L_zkhfyQuX"
   },
   "source": [
    "**To tokenize english and french sentences, we can use only one tokenizer. True or False?**"
   ]
  },
  {
   "cell_type": "markdown",
   "metadata": {
    "id": "1Z0ZcNOeyauD"
   },
   "source": [
    "Wrong, in this case I am using basic word tokenization through nltk.word_tokenize"
   ]
  },
  {
   "cell_type": "markdown",
   "metadata": {
    "id": "814mKDFiymcY"
   },
   "source": [
    "Tokenize the sentences that we have."
   ]
  },
  {
   "cell_type": "code",
   "execution_count": 12,
   "metadata": {
    "id": "aiXlciqFuQzW"
   },
   "outputs": [
    {
     "name": "stdout",
     "output_type": "stream",
     "text": [
      "['the', 'united', 'states', 'is', 'usually', 'chilly', 'during', 'july', 'and', 'it', 'is', 'usually', 'freezing', 'in', 'november']\n",
      "['les', 'étatsunis', 'est', 'généralement', 'froid', 'en', 'juillet', 'et', 'il', 'gèle', 'habituellement', 'en', 'novembre']\n",
      "137859 137859\n"
     ]
    }
   ],
   "source": [
    "def tokenize_sentences(sentences):\n",
    "    return [word_tokenize(sentence.lower()) for sentence in sentences]\n",
    "english_sentences = combined_df['English']\n",
    "french_sentences = combined_df['French']\n",
    "english_tokenized = tokenize_sentences(english_sentences)\n",
    "french_tokenized = tokenize_sentences(french_sentences)\n",
    "print(english_tokenized[0])\n",
    "print(french_tokenized[0])\n",
    "print(len(english_tokenized), len(french_tokenized))"
   ]
  },
  {
   "cell_type": "markdown",
   "metadata": {
    "id": "aUN01jDXys9B"
   },
   "source": [
    "**How many unique words do we have in english and in french?**"
   ]
  },
  {
   "cell_type": "code",
   "execution_count": 13,
   "metadata": {
    "id": "1WahkdzKvIlO"
   },
   "outputs": [
    {
     "name": "stdout",
     "output_type": "stream",
     "text": [
      "English Vocabulary Size: 203\n",
      "French Vocabulary Size: 348\n",
      "{'<PAD>': 0, '<SOS>': 1, '<EOS>': 2, '<UNK>': 3, 'the': 4, 'united': 5, 'states': 6, 'is': 7, 'usually': 8, 'chilly': 9, 'during': 10, 'july': 11, 'and': 12, 'it': 13, 'freezing': 14, 'in': 15, 'november': 16, 'california': 17, 'quiet': 18, 'march': 19, 'hot': 20, 'june': 21, 'sometimes': 22, 'mild': 23, 'cold': 24, 'september': 25, 'your': 26, 'least': 27, 'liked': 28, 'fruit': 29, 'grape': 30, 'but': 31, 'my': 32, 'apple': 33, 'his': 34, 'favorite': 35, 'orange': 36, 'paris': 37, 'relaxing': 38, 'december': 39, 'new': 40, 'jersey': 41, 'busy': 42, 'spring': 43, 'never': 44, 'our': 45, 'lemon': 46, 'january': 47, 'warm': 48, 'lime': 49, 'her': 50, 'banana': 51, 'he': 52, 'saw': 53, 'a': 54, 'old': 55, 'yellow': 56, 'truck': 57, 'india': 58, 'rainy': 59, 'that': 60, 'cat': 61, 'was': 62, 'most': 63, 'loved': 64, 'animal': 65, 'dislikes': 66, 'grapefruit': 67, 'limes': 68, 'lemons': 69, 'february': 70, 'china': 71, 'pleasant': 72, 'autumn': 73, 'october': 74, 'wonderful': 75, 'nice': 76, 'april': 77, 'summer': 78, 'france': 79, 'snowy': 80, 'may': 81, 'grapes': 82, 'mangoes': 83, 'their': 84, 'mango': 85, 'pear': 86, 'august': 87, 'beautiful': 88, 'apples': 89, 'peaches': 90, 'feared': 91, 'shark': 92, 'wet': 93, 'dry': 94, 'we': 95, 'like': 96, 'oranges': 97, 'they': 98, 'pears': 99, 'she': 100, 'little': 101, 'red': 102, 'winter': 103, 'disliked': 104, 'rusty': 105, 'car': 106, 'strawberries': 107, 'i': 108, 'strawberry': 109, 'bananas': 110, 'going': 111, 'to': 112, 'next': 113, 'plan': 114, 'visit': 115, 'elephants': 116, 'were': 117, 'animals': 118, 'are': 119, 'likes': 120, 'dislike': 121, 'fall': 122, 'driving': 123, 'peach': 124, 'drives': 125, 'blue': 126, 'you': 127, 'bird': 128, 'horses': 129, 'mouse': 130, 'went': 131, 'last': 132, 'horse': 133, 'automobile': 134, 'dogs': 135, 'white': 136, 'elephant': 137, 'black': 138, 'think': 139, 'difficult': 140, 'translate': 141, 'between': 142, 'spanish': 143, 'portuguese': 144, 'big': 145, 'green': 146, 'translating': 147, 'fun': 148, 'where': 149, 'dog': 150, 'why': 151, 'might': 152, 'go': 153, 'this': 154, 'drove': 155, 'shiny': 156, 'sharks': 157, 'monkey': 158, 'how': 159, 'weather': 160, 'lion': 161, 'plans': 162, 'bear': 163, 'rabbit': 164, 'its': 165, 'chinese': 166, 'when': 167, 'eiffel': 168, 'tower': 169, 'did': 170, 'grocery': 171, 'store': 172, 'wanted': 173, 'does': 174, 'football': 175, 'field': 176, 'wants': 177, 'didnt': 178, 'snake': 179, 'snakes': 180, 'do': 181, 'easy': 182, 'thinks': 183, 'english': 184, 'french': 185, 'would': 186, 'arent': 187, 'cats': 188, 'rabbits': 189, 'has': 190, 'been': 191, 'monkeys': 192, 'lake': 193, 'bears': 194, 'school': 195, 'birds': 196, 'want': 197, 'isnt': 198, 'lions': 199, 'am': 200, 'mice': 201, 'have': 202}\n"
     ]
    }
   ],
   "source": [
    "def build_vocabulary(tokenized_sentences, special_tokens=[\"<PAD>\", \"<SOS>\", \"<EOS>\", \"<UNK>\"]):\n",
    "    all_tokens_list = []\n",
    "    for sentence in tokenized_sentences:\n",
    "        all_tokens_list.extend(sentence)\n",
    "    vocab = {token: idx for idx, token in enumerate(special_tokens)}\n",
    "    for token in all_tokens_list:\n",
    "        if token not in vocab:\n",
    "            vocab[token] = len(vocab) # updating each token with a unique index, since len(vocab) is changing each time\n",
    "    # Decoding Later \n",
    "    index_to_token = {idx: token for token, idx in vocab.items()}\n",
    "    return vocab, index_to_token\n",
    "english_vocab, english_index_to_token = build_vocabulary(english_tokenized)\n",
    "french_vocab, french_index_to_token = build_vocabulary(french_tokenized)\n",
    "\n",
    "print(\"English Vocabulary Size:\", len(english_vocab))\n",
    "print(\"French Vocabulary Size:\", len(french_vocab))\n",
    "print(english_vocab)"
   ]
  },
  {
   "cell_type": "markdown",
   "metadata": {
    "id": "g0C2RJjArtJd"
   },
   "source": [
    "####Padding"
   ]
  },
  {
   "cell_type": "markdown",
   "metadata": {
    "id": "vXdTXMo5y8oB"
   },
   "source": [
    "**What should be the length of the sequences that we have after padding?**"
   ]
  },
  {
   "cell_type": "markdown",
   "metadata": {
    "id": "9wtHQsgXzImq"
   },
   "source": [
    "As the padding length, in this case I will take as the length of the maximum phrase here!!!"
   ]
  },
  {
   "cell_type": "markdown",
   "metadata": {
    "id": "hRXayRzVzQD4"
   },
   "source": [
    "Perform padding on the sequences that we have."
   ]
  },
  {
   "cell_type": "code",
   "execution_count": 14,
   "metadata": {
    "id": "oNdO9EZrxvmN"
   },
   "outputs": [
    {
     "name": "stdout",
     "output_type": "stream",
     "text": [
      "Sample English Sequence: [1, 4, 5, 6, 7, 8, 9, 10, 11, 12, 13, 7, 8, 14, 15, 16, 2, 0, 0, 0]\n",
      "Sample French Sequence: [1, 4, 5, 6, 7, 8, 9, 10, 11, 12, 13, 14, 9, 15, 2, 0, 0, 0, 0, 0, 0, 0, 0, 0, 0, 0]\n"
     ]
    }
   ],
   "source": [
    "def convert_to_sequence(tokenized_sentences, vocab, max_length):\n",
    "    '''\n",
    "    params: tokenized_sentences: List of sentences, each sentence is a list of tokens\n",
    "            vocab: Dictionary containing the vocabulary where the keys are the tokens and the values are the indices\n",
    "            max_length: Maximum length of the sequence\n",
    "    return: List of sequences where each sequence is a list of indices representing the tokens in the input sentences\n",
    "    '''\n",
    "    sequences = []\n",
    "    for sentence in tokenized_sentences:\n",
    "        sequence = [vocab[\"<SOS>\"]]\n",
    "\n",
    "        # Convert each token to its index in the vocabulary\n",
    "        sequence += [vocab.get(token, vocab[\"<UNK>\"]) for token in sentence]\n",
    "\n",
    "        # Add <EOS> at the end of each sequence\n",
    "        sequence.append(vocab[\"<EOS>\"])\n",
    "        if len(sequence) > max_length:\n",
    "\n",
    "            sequence = sequence[:max_length] # truncate the sequence to the maximum length (this will be used for new phrases( which won't necessarlily have a length of at most max_length))\n",
    "\n",
    "        sequence += [vocab[\"<PAD>\"]] * (max_length - len(sequence)) # fill the rest with <PAD> tokens (which has index 0)\n",
    "        sequences.append(sequence)\n",
    "    return sequences\n",
    "# Note here I chose to pad to the right\n",
    "english_sequences = convert_to_sequence(english_tokenized, english_vocab,max_eng_length+5)\n",
    "french_sequences = convert_to_sequence(french_tokenized, french_vocab, max_fr_length+5) # 1 to inclde <EOS> token\n",
    "print(\"Sample English Sequence:\", english_sequences[0])\n",
    "print(\"Sample French Sequence:\", french_sequences[0])"
   ]
  },
  {
   "cell_type": "markdown",
   "metadata": {},
   "source": [
    "### Batching "
   ]
  },
  {
   "cell_type": "code",
   "execution_count": 15,
   "metadata": {},
   "outputs": [
    {
     "name": "stdout",
     "output_type": "stream",
     "text": [
      "English Batch Shape: torch.Size([32, 20])\n",
      "French Batch Shape: torch.Size([32, 26])\n"
     ]
    }
   ],
   "source": [
    "english_tensor = torch.tensor(english_sequences, dtype=torch.long)\n",
    "french_tensor = torch.tensor(french_sequences, dtype=torch.long)\n",
    "\n",
    "# Create a dataset and data loader for batching\n",
    "dataset = TensorDataset(english_tensor, french_tensor)\n",
    "batch_size = 32  # Example batch size\n",
    "dataloader = DataLoader(dataset, batch_size=batch_size, shuffle=True)\n",
    "\n",
    "for english_batch, french_batch in dataloader:\n",
    "    print(\"English Batch Shape:\", english_batch.shape) # batch_size x max_length\n",
    "    print(\"French Batch Shape:\", french_batch.shape) # batch_size x max_length\n",
    "    break  "
   ]
  },
  {
   "cell_type": "markdown",
   "metadata": {
    "id": "JxvvVU3ezUHR"
   },
   "source": [
    "##Modeling"
   ]
  },
  {
   "cell_type": "markdown",
   "metadata": {
    "id": "FEKujJUEzVux"
   },
   "source": [
    "After preprrocessing the data, we can build our model. Start by building a baseline architecture relying on one directional RNNs, LSTMs, or GRUs. It will be good to lookup how to build Seq2Seq models, there are some new layers that will help you like RepeatVector and TimeDistributed."
   ]
  },
  {
   "cell_type": "markdown",
   "metadata": {},
   "source": [
    "# Encoder"
   ]
  },
  {
   "cell_type": "code",
   "execution_count": null,
   "metadata": {},
   "outputs": [
    {
     "name": "stdout",
     "output_type": "stream",
     "text": [
      "Hidden State Shape: torch.Size([2, 10, 512])\n",
      "Cell State Shape: torch.Size([2, 10, 512])\n",
      "Encoder output verification passed!\n"
     ]
    }
   ],
   "source": [
    "class Encoder(nn.Module):\n",
    "    def __init__(self, input_dim, embedding_dim, hidden_dim, num_layers=2):\n",
    "        '''\n",
    "        input_dim: The size of the input vocabulary (It tells the model how many unique tokens it can expect to see)\n",
    "\n",
    "        '''\n",
    "        super(Encoder, self).__init__()\n",
    "\n",
    "        self.embedding = nn.Embedding(input_dim, embedding_dim) # it will have a matrix of size (input_dim, embedding_dim)\n",
    "        # where each row of the matrix will represent the embedding of a token in the vocabulary\n",
    "        '''Now each token in my input sequence is an index that refers to a row in this embedding matrix.'''\n",
    "        '''This lookup returns a new tensor of shape (batch_size, max_length, embedding_dim)'''\n",
    "        self.lstm = nn.LSTM(embedding_dim, hidden_dim, num_layers, batch_first=True) # batch_first=True means that the first dimension of the input and output will be the batch size (batch_size, max_length, hidden_dim)\n",
    "        # note that in LSTM, the time step happens under the hood\n",
    "        # LSTM treats each position along sequence lenth as a time step\n",
    "        \n",
    "    def forward(self, src, src_lengths):\n",
    "        # src shape: (batch_size, max_length) - a batch of sequences of token indices\n",
    "        # src_lengths shape: (batch_size) - the actual lengths of each sequence without padding\n",
    "\n",
    "\n",
    "        '''If src has shape (batch_size, max_length) (a batch of padded sequences of token indices), the embedding layer’s output will be a tensor of shape (batch_size, max_length, embedding_dim)'''\n",
    "        embedded = self.embedding(src)  # shape: (batch_size, max_length, embedding_dim)\n",
    "        \n",
    "\n",
    "        '''LSTM will process only the non-padded elements'''\n",
    "        packed_embedded = pack_padded_sequence(embedded, src_lengths, batch_first=True, enforce_sorted=False) # \n",
    "        packed_outputs, (hidden, cell) = self.lstm(packed_embedded)\n",
    "        # hidden and cell shapes: (num_layers, batch_size, hidden_dim)\n",
    "        \n",
    "        # Note if you need the outputs you need to unpack the sequences using pad_packed_sequence\n",
    "        # outputs, _ = pad_packed_sequence(packed_outputs, batch_first=True) #outputs shape: (batch_size, max_length, hidden_dim)\n",
    "    \n",
    "        return hidden, cell\n",
    "\n",
    "\n",
    "\n",
    "'''Let's test the encoder with a batch of 10 sequences'''\n",
    "actual_lengths = torch.tensor([len([token for token in sentence if token != english_vocab[\"<PAD>\"]]) for sentence in english_tensor[:10]])\n",
    "\n",
    "input_dim = len(english_vocab)  # Vocabulary size\n",
    "embedding_dim = 256             # Embedding dimension\n",
    "hidden_dim = 512                # Hidden dimension\n",
    "num_layers = 2                  # Number of layers in the LSTM\n",
    "\n",
    "# Initialize the encoder\n",
    "encoder = Encoder(input_dim, embedding_dim, hidden_dim, num_layers)\n",
    "# forward pass \n",
    "hidden, cell = encoder(english_tensor, actual_lengths)\n",
    "print(\"Hidden State Shape:\", hidden.shape)  # Expected: (num_layers, batch_size, hidden_dim)\n",
    "print(\"Cell State Shape:\", cell.shape)      # Expected: (num_layers, batch_size, hidden_dim)\n",
    "\n",
    "assert hidden.shape == (num_layers, english_tensor[:10].size(0), hidden_dim), \"Hidden state shape mismatch!\"\n",
    "assert cell.shape == (num_layers, english_tensor[:10].size(0), hidden_dim), \"Cell state shape mismatch!\"\n",
    "\n",
    "print(\"Encoder output verification passed!\")"
   ]
  },
  {
   "cell_type": "markdown",
   "metadata": {},
   "source": [
    "# Decoder "
   ]
  },
  {
   "cell_type": "code",
   "execution_count": 24,
   "metadata": {},
   "outputs": [],
   "source": [
    "class Decoder(nn.Module):\n",
    "    def __init__(self, output_dim, embedding_dim, hidden_dim, num_layers=2, teacher_forcing_ratio=0.5):\n",
    "        super(Decoder, self).__init__()\n",
    "        self.teacher_forcing_ratio = teacher_forcing_ratio\n",
    "\n",
    "        # Embedding layer for the output vocabulary( French vocabulary)\n",
    "        self.embedding = nn.Embedding(output_dim, embedding_dim)\n",
    "    \n",
    "        self.lstm = nn.LSTM(embedding_dim, hidden_dim, num_layers=num_layers, batch_first=True)\n",
    "        \n",
    "        # Fully connected layer to generate predictions over vocabulary\n",
    "        self.fc_out = nn.Linear(hidden_dim, output_dim)\n",
    "        \n",
    "    def forward(self, input_token, hidden, cell):\n",
    "        # input_token shape: (batch_size) - single token for each sequence in the batch, since later in the full model we will be looping over the sequence length(1 token at a time)\n",
    "        \n",
    "        '''Step 1: Embed the input token'''\n",
    "        embedded = self.embedding(input_token).unsqueeze(1)  # Shape: (batch_size, 1, embedding_dim)\n",
    "        \n",
    "        '''Step 2: Pass the embedded input through the LSTM'''\n",
    "        output, (hidden, cell) = self.lstm(embedded, (hidden, cell))  # Shape: (batch_size, 1, hidden_dim)\n",
    "        \n",
    "        '''Step 3: Generate prediction for the next token'''\n",
    "        prediction = self.fc_out(output.squeeze(1))  # Shape: (batch_size, output_dim)\n",
    "        \n",
    "        return prediction, hidden, cell\n"
   ]
  },
  {
   "cell_type": "markdown",
   "metadata": {},
   "source": [
    "# Full Model (Encoder + Decoder)"
   ]
  },
  {
   "cell_type": "code",
   "execution_count": 25,
   "metadata": {},
   "outputs": [],
   "source": [
    "class Seq2Seq(nn.Module):\n",
    "    def __init__(self, encoder, decoder,  teacher_forcing_ratio=0.5):\n",
    "        super(Seq2Seq, self).__init__()\n",
    "        self.encoder = encoder\n",
    "        self.decoder = decoder\n",
    "        self.teacher_forcing_ratio = teacher_forcing_ratio\n",
    "    def forward(self, src, src_lengths, tgt):\n",
    "        # src: Source input sequence (English) - Shape: (batch_size, src_sequence_length)\n",
    "        # src_lengths: Actual lengths of each sequence in src (ignores padding)\n",
    "        # tgt: Target sequence (French) - Shape: (batch_size, tgt_sequence_length)\n",
    "        \n",
    "        batch_size = src.shape[0]\n",
    "        tgt_sequence_length = tgt.shape[1]\n",
    "        tgt_vocab_size = self.decoder.fc_out.out_features\n",
    "\n",
    "        '''Decoder outputs tensor'''\n",
    "        outputs = torch.zeros(batch_size, tgt_sequence_length, tgt_vocab_size) # output the full prob. distribution over the output vocabulary for each time step in the target sequence, for thecomputing the loss function, but in inference we will only use the argmax of this distribution\n",
    "\n",
    "        '''Get the hidden and cell states from the encoder'''\n",
    "        hidden, cell = self.encoder(src, src_lengths)\n",
    "\n",
    "        '''The first input to the decoder is the <SOS> token for each sequence'''\n",
    "        input_token = tgt[:, 0]  # Shape: (batch_size)\n",
    "\n",
    "        '''Go over each token in the target sequence'''\n",
    "        for t in range(1, tgt_sequence_length):\n",
    "            '''Input token: is the current token that we’re feeding to the decoder'''\n",
    "            output, hidden, cell = self.decoder(input_token, hidden, cell)\n",
    "            \n",
    "            # Store the output prediction for this time step\n",
    "            outputs[:, t, :] = output\n",
    "            \n",
    "            '''Determine if we should use teacher forcing'''\n",
    "            teacher_force = random.random() < self.teacher_forcing_ratio\n",
    "            input_token = tgt[:, t] if teacher_force else output.argmax(1)\n",
    "\n",
    "        return outputs\n",
    "    def inference(self, src, src_lengths, max_len=23, start_token=1, end_token=2):\n",
    "        # src: Source input sequence - Shape: (batch_size, src_sequence_length) (English)\n",
    "        # src_lengths: Actual lengths of each sequence in src (ignores padding)\n",
    "        # max_len: Maximum length of the generated sequence \n",
    "        # start_token: Start-of-sequence token index\n",
    "        # end_token: End-of-sequence token index\n",
    "        \n",
    "        batch_size = src.shape[0]\n",
    "\n",
    "        '''Encode the source sequence'''\n",
    "        hidden, cell = self.encoder(src, src_lengths)\n",
    "\n",
    "        '''Initialize the input token with the <SOS> token, for each sequence in the batch'''\n",
    "        input_token = torch.tensor([start_token] * batch_size) # Shape: (batch_size)\n",
    "\n",
    "        generated_tokens = torch.zeros(batch_size, max_len).long() # storing the token indices\n",
    "\n",
    "        for t in range(max_len):\n",
    "            output, hidden, cell = self.decoder(input_token, hidden, cell)\n",
    "            \n",
    "            '''Get the most likely token (predicted token) at this time step'''\n",
    "            input_token = output.argmax(1)  # Shape: (batch_size)\n",
    "            generated_tokens[:, t] = input_token\n",
    "            \n",
    "            '''Stop generating if all sequences in the batch reach <EOS>'''\n",
    "            if (input_token == end_token).all():\n",
    "                break\n",
    "        return generated_tokens\n"
   ]
  },
  {
   "cell_type": "markdown",
   "metadata": {
    "id": "aP10HtNBzpT0"
   },
   "source": [
    "Compile and train the model.\n",
    "**FYI:** While specifying the architecture of your model and the number of epochs for training, keeep in your mind that your model might take A LOT of time to train."
   ]
  },
  {
   "cell_type": "markdown",
   "metadata": {},
   "source": [
    "# Data taking care f the train_loader "
   ]
  },
  {
   "cell_type": "code",
   "execution_count": 26,
   "metadata": {},
   "outputs": [],
   "source": [
    "class TranslationDataset(Dataset):\n",
    "    def __init__(self, src_sentences, tgt_sentences, src_vocab, tgt_vocab, max_src_len, max_tgt_len):\n",
    "        self.src_sentences = src_sentences\n",
    "        self.tgt_sentences = tgt_sentences\n",
    "        self.src_vocab = src_vocab\n",
    "        self.tgt_vocab = tgt_vocab\n",
    "        self.max_src_len = max_src_len\n",
    "        self.max_tgt_len = max_tgt_len\n",
    "    \n",
    "    def __len__(self):\n",
    "        return len(self.src_sentences)\n",
    "    \n",
    "    def __getitem__(self, idx):\n",
    "        # Get source and target sentences\n",
    "        src_sentence = self.src_sentences[idx]\n",
    "        tgt_sentence = self.tgt_sentences[idx]\n",
    "        \n",
    "        # Convert tokens to indices and pad to max length\n",
    "        src_indices = self._convert_and_pad(src_sentence, self.src_vocab, self.max_src_len, \"<PAD>\")\n",
    "        tgt_indices = self._convert_and_pad(tgt_sentence, self.tgt_vocab, self.max_tgt_len, \"<PAD>\")\n",
    "\n",
    "        # Get actual lengths (ignoring <PAD> tokens)\n",
    "        src_length = min(len(src_sentence), self.max_src_len)\n",
    "        tgt_length = min(len(tgt_sentence), self.max_tgt_len)\n",
    "\n",
    "        return torch.tensor(src_indices), src_length, torch.tensor(tgt_indices)\n",
    "    \n",
    "    def _convert_and_pad(self, sentence, vocab, max_len, pad_token):\n",
    "        # Convert tokens to indices\n",
    "        indices = [vocab.get(token, vocab[\"<UNK>\"]) for token in sentence]\n",
    "        # Truncate if necessary and pad to max length\n",
    "        indices = indices[:max_len] + [vocab[pad_token]] * (max_len - len(indices))\n",
    "        return indices\n",
    "\n",
    "\n",
    "max_src_len = 25  \n",
    "max_tgt_len = 25  \n",
    "batch_size = 32   # Batch size\n",
    "\n",
    "# Initialize the dataset\n",
    "train_dataset = TranslationDataset(\n",
    "    src_sentences=english_tokenized, \n",
    "    tgt_sentences=french_tokenized, \n",
    "    src_vocab=english_vocab, \n",
    "    tgt_vocab=french_vocab, \n",
    "    max_src_len=max_src_len, \n",
    "    max_tgt_len=max_tgt_len\n",
    ")\n",
    "def collate_batch(batch, max_src_len, max_tgt_len):\n",
    "    src_batch, src_lengths, tgt_batch = zip(*batch)\n",
    "    \n",
    "    # Stack each element of the batch to create the batch tensors\n",
    "    src_batch = torch.stack(src_batch)\n",
    "    tgt_batch = torch.stack(tgt_batch)\n",
    "    src_lengths = torch.tensor(src_lengths)\n",
    "\n",
    "    return src_batch, src_lengths, tgt_batch\n",
    "\n",
    "# Initialize the DataLoader\n",
    "train_dataloader = DataLoader(train_dataset, batch_size=batch_size, shuffle=True, collate_fn=lambda x: collate_batch(x, max_src_len, max_tgt_len))\n"
   ]
  },
  {
   "cell_type": "code",
   "execution_count": 27,
   "metadata": {
    "id": "lWw4nBNIFp9D"
   },
   "outputs": [
    {
     "ename": "KeyboardInterrupt",
     "evalue": "",
     "output_type": "error",
     "traceback": [
      "\u001b[0;31m---------------------------------------------------------------------------\u001b[0m",
      "\u001b[0;31mKeyboardInterrupt\u001b[0m                         Traceback (most recent call last)",
      "Cell \u001b[0;32mIn[27], line 41\u001b[0m\n\u001b[1;32m     38\u001b[0m loss \u001b[38;5;241m=\u001b[39m criterion(output, tgt)\n\u001b[1;32m     40\u001b[0m \u001b[38;5;66;03m# Backpropagation and optimization\u001b[39;00m\n\u001b[0;32m---> 41\u001b[0m \u001b[43mloss\u001b[49m\u001b[38;5;241;43m.\u001b[39;49m\u001b[43mbackward\u001b[49m\u001b[43m(\u001b[49m\u001b[43m)\u001b[49m\n\u001b[1;32m     42\u001b[0m optimizer\u001b[38;5;241m.\u001b[39mstep()\n\u001b[1;32m     44\u001b[0m epoch_loss \u001b[38;5;241m+\u001b[39m\u001b[38;5;241m=\u001b[39m loss\u001b[38;5;241m.\u001b[39mitem()\n",
      "File \u001b[0;32m~/.local/lib/python3.10/site-packages/torch/_tensor.py:581\u001b[0m, in \u001b[0;36mTensor.backward\u001b[0;34m(self, gradient, retain_graph, create_graph, inputs)\u001b[0m\n\u001b[1;32m    571\u001b[0m \u001b[38;5;28;01mif\u001b[39;00m has_torch_function_unary(\u001b[38;5;28mself\u001b[39m):\n\u001b[1;32m    572\u001b[0m     \u001b[38;5;28;01mreturn\u001b[39;00m handle_torch_function(\n\u001b[1;32m    573\u001b[0m         Tensor\u001b[38;5;241m.\u001b[39mbackward,\n\u001b[1;32m    574\u001b[0m         (\u001b[38;5;28mself\u001b[39m,),\n\u001b[0;32m   (...)\u001b[0m\n\u001b[1;32m    579\u001b[0m         inputs\u001b[38;5;241m=\u001b[39minputs,\n\u001b[1;32m    580\u001b[0m     )\n\u001b[0;32m--> 581\u001b[0m \u001b[43mtorch\u001b[49m\u001b[38;5;241;43m.\u001b[39;49m\u001b[43mautograd\u001b[49m\u001b[38;5;241;43m.\u001b[39;49m\u001b[43mbackward\u001b[49m\u001b[43m(\u001b[49m\n\u001b[1;32m    582\u001b[0m \u001b[43m    \u001b[49m\u001b[38;5;28;43mself\u001b[39;49m\u001b[43m,\u001b[49m\u001b[43m \u001b[49m\u001b[43mgradient\u001b[49m\u001b[43m,\u001b[49m\u001b[43m \u001b[49m\u001b[43mretain_graph\u001b[49m\u001b[43m,\u001b[49m\u001b[43m \u001b[49m\u001b[43mcreate_graph\u001b[49m\u001b[43m,\u001b[49m\u001b[43m \u001b[49m\u001b[43minputs\u001b[49m\u001b[38;5;241;43m=\u001b[39;49m\u001b[43minputs\u001b[49m\n\u001b[1;32m    583\u001b[0m \u001b[43m\u001b[49m\u001b[43m)\u001b[49m\n",
      "File \u001b[0;32m~/.local/lib/python3.10/site-packages/torch/autograd/__init__.py:347\u001b[0m, in \u001b[0;36mbackward\u001b[0;34m(tensors, grad_tensors, retain_graph, create_graph, grad_variables, inputs)\u001b[0m\n\u001b[1;32m    342\u001b[0m     retain_graph \u001b[38;5;241m=\u001b[39m create_graph\n\u001b[1;32m    344\u001b[0m \u001b[38;5;66;03m# The reason we repeat the same comment below is that\u001b[39;00m\n\u001b[1;32m    345\u001b[0m \u001b[38;5;66;03m# some Python versions print out the first line of a multi-line function\u001b[39;00m\n\u001b[1;32m    346\u001b[0m \u001b[38;5;66;03m# calls in the traceback and some print out the last line\u001b[39;00m\n\u001b[0;32m--> 347\u001b[0m \u001b[43m_engine_run_backward\u001b[49m\u001b[43m(\u001b[49m\n\u001b[1;32m    348\u001b[0m \u001b[43m    \u001b[49m\u001b[43mtensors\u001b[49m\u001b[43m,\u001b[49m\n\u001b[1;32m    349\u001b[0m \u001b[43m    \u001b[49m\u001b[43mgrad_tensors_\u001b[49m\u001b[43m,\u001b[49m\n\u001b[1;32m    350\u001b[0m \u001b[43m    \u001b[49m\u001b[43mretain_graph\u001b[49m\u001b[43m,\u001b[49m\n\u001b[1;32m    351\u001b[0m \u001b[43m    \u001b[49m\u001b[43mcreate_graph\u001b[49m\u001b[43m,\u001b[49m\n\u001b[1;32m    352\u001b[0m \u001b[43m    \u001b[49m\u001b[43minputs\u001b[49m\u001b[43m,\u001b[49m\n\u001b[1;32m    353\u001b[0m \u001b[43m    \u001b[49m\u001b[43mallow_unreachable\u001b[49m\u001b[38;5;241;43m=\u001b[39;49m\u001b[38;5;28;43;01mTrue\u001b[39;49;00m\u001b[43m,\u001b[49m\n\u001b[1;32m    354\u001b[0m \u001b[43m    \u001b[49m\u001b[43maccumulate_grad\u001b[49m\u001b[38;5;241;43m=\u001b[39;49m\u001b[38;5;28;43;01mTrue\u001b[39;49;00m\u001b[43m,\u001b[49m\n\u001b[1;32m    355\u001b[0m \u001b[43m\u001b[49m\u001b[43m)\u001b[49m\n",
      "File \u001b[0;32m~/.local/lib/python3.10/site-packages/torch/autograd/graph.py:825\u001b[0m, in \u001b[0;36m_engine_run_backward\u001b[0;34m(t_outputs, *args, **kwargs)\u001b[0m\n\u001b[1;32m    823\u001b[0m     unregister_hooks \u001b[38;5;241m=\u001b[39m _register_logging_hooks_on_whole_graph(t_outputs)\n\u001b[1;32m    824\u001b[0m \u001b[38;5;28;01mtry\u001b[39;00m:\n\u001b[0;32m--> 825\u001b[0m     \u001b[38;5;28;01mreturn\u001b[39;00m \u001b[43mVariable\u001b[49m\u001b[38;5;241;43m.\u001b[39;49m\u001b[43m_execution_engine\u001b[49m\u001b[38;5;241;43m.\u001b[39;49m\u001b[43mrun_backward\u001b[49m\u001b[43m(\u001b[49m\u001b[43m  \u001b[49m\u001b[38;5;66;43;03m# Calls into the C++ engine to run the backward pass\u001b[39;49;00m\n\u001b[1;32m    826\u001b[0m \u001b[43m        \u001b[49m\u001b[43mt_outputs\u001b[49m\u001b[43m,\u001b[49m\u001b[43m \u001b[49m\u001b[38;5;241;43m*\u001b[39;49m\u001b[43margs\u001b[49m\u001b[43m,\u001b[49m\u001b[43m \u001b[49m\u001b[38;5;241;43m*\u001b[39;49m\u001b[38;5;241;43m*\u001b[39;49m\u001b[43mkwargs\u001b[49m\n\u001b[1;32m    827\u001b[0m \u001b[43m    \u001b[49m\u001b[43m)\u001b[49m  \u001b[38;5;66;03m# Calls into the C++ engine to run the backward pass\u001b[39;00m\n\u001b[1;32m    828\u001b[0m \u001b[38;5;28;01mfinally\u001b[39;00m:\n\u001b[1;32m    829\u001b[0m     \u001b[38;5;28;01mif\u001b[39;00m attach_logging_hooks:\n",
      "\u001b[0;31mKeyboardInterrupt\u001b[0m: "
     ]
    }
   ],
   "source": [
    "# Hyperparameters\n",
    "input_dim = len(english_vocab)\n",
    "output_dim = len(french_vocab)\n",
    "embedding_dim = 256\n",
    "hidden_dim = 512\n",
    "num_layers = 2\n",
    "learning_rate = 0.001\n",
    "teacher_forcing_ratio = 0.5\n",
    "num_epochs = 10\n",
    "\n",
    "# Initialize the encoder, decoder, and Seq2Seq model\n",
    "encoder = Encoder(input_dim, embedding_dim, hidden_dim, num_layers)\n",
    "decoder = Decoder(output_dim, embedding_dim, hidden_dim, num_layers, teacher_forcing_ratio=teacher_forcing_ratio)\n",
    "model = Seq2Seq(encoder, decoder)\n",
    "\n",
    "# Optimizer and loss function\n",
    "optimizer = torch.optim.Adam(model.parameters(), lr=learning_rate)\n",
    "criterion = nn.CrossEntropyLoss(ignore_index=french_vocab[\"<PAD>\"])\n",
    "\n",
    "# Training loop\n",
    "for epoch in range(num_epochs):\n",
    "    model.train()\n",
    "    epoch_loss = 0\n",
    "    \n",
    "    for src, src_lengths, tgt in train_dataloader:  # Assume train_dataloader yields batches of data\n",
    "        src, src_lengths, tgt = src, src_lengths, tgt\n",
    "        \n",
    "        optimizer.zero_grad()\n",
    "        \n",
    "        # Forward pass through the Seq2Seq model\n",
    "        output = model(src, src_lengths, tgt)  # Shape: (batch_size, tgt_sequence_length, output_dim)\n",
    "        \n",
    "        # Reshape output and target for calculating loss\n",
    "        output = output[:, 1:].reshape(-1, output_dim)  # Remove the first timestep (<SOS>)\n",
    "        tgt = tgt[:, 1:].reshape(-1)  # Align target sequence to ignore <SOS>\n",
    "\n",
    "        # Calculate loss\n",
    "        loss = criterion(output, tgt)\n",
    "        \n",
    "        # Backpropagation and optimization\n",
    "        loss.backward()\n",
    "        optimizer.step()\n",
    "        \n",
    "        epoch_loss += loss.item()\n",
    "    \n",
    "    print(f\"Epoch {epoch + 1}/{num_epochs}, Loss: {epoch_loss / len(train_dataloader)}\")\n"
   ]
  },
  {
   "cell_type": "markdown",
   "metadata": {
    "id": "9UoEcxyJztiQ"
   },
   "source": [
    "Define a function that gets an input sentence in english and gives the output sentence in the french language."
   ]
  },
  {
   "cell_type": "code",
   "execution_count": null,
   "metadata": {
    "id": "fUU_RdCxYpM6"
   },
   "outputs": [],
   "source": [
    "#Test Your Knowledge"
   ]
  },
  {
   "cell_type": "markdown",
   "metadata": {
    "id": "XUQIcAjWz3bt"
   },
   "source": [
    "Test the following sentence"
   ]
  },
  {
   "cell_type": "code",
   "execution_count": null,
   "metadata": {
    "id": "fDmNqnZIQMko"
   },
   "outputs": [],
   "source": [
    "input = \"she is driving the truck\"\n",
    "\n",
    "#Test Your Knowledge"
   ]
  },
  {
   "cell_type": "markdown",
   "metadata": {
    "id": "wdI2XhaBz6CN"
   },
   "source": [
    "Try to improve your model by modifying the architecture to take into account bidirectionality which is very useful in Machine Translation. Create a new model called model2"
   ]
  },
  {
   "cell_type": "code",
   "execution_count": null,
   "metadata": {
    "id": "Ch28BLsbGnCn"
   },
   "outputs": [],
   "source": [
    "#Test Your Knowledge"
   ]
  },
  {
   "cell_type": "markdown",
   "metadata": {
    "id": "EHDvxt9L0C21"
   },
   "source": [
    "compile and train your new model."
   ]
  },
  {
   "cell_type": "code",
   "execution_count": null,
   "metadata": {
    "id": "iK1QvVmaTWI2"
   },
   "outputs": [],
   "source": [
    "#Test Your Knowledge"
   ]
  },
  {
   "cell_type": "markdown",
   "metadata": {
    "id": "CkpOI2JI0GBx"
   },
   "source": [
    "Define a new function that relies on your new model to make predictions."
   ]
  },
  {
   "cell_type": "code",
   "execution_count": null,
   "metadata": {
    "id": "Gulu8OiXTbae"
   },
   "outputs": [],
   "source": [
    "#Test Your Knowledge"
   ]
  },
  {
   "cell_type": "code",
   "execution_count": null,
   "metadata": {
    "id": "8CO0pO6-UAeE"
   },
   "outputs": [],
   "source": [
    "input = \"she is driving the truck\"\n",
    "\n",
    "#Test Your Knowledge"
   ]
  },
  {
   "cell_type": "markdown",
   "metadata": {
    "id": "YGeXrjqbZen7"
   },
   "source": [
    "**What is another adjustment in terms of architecture that you might be able to do to improve your model?**"
   ]
  },
  {
   "cell_type": "markdown",
   "metadata": {
    "id": "bekjOkjbZlBf"
   },
   "source": [
    "[Share Your Knowledge]"
   ]
  },
  {
   "cell_type": "markdown",
   "metadata": {
    "id": "pnIN2lD2tn05"
   },
   "source": [
    "**What are some additional ways that we can do to improve the performance of our model?**"
   ]
  },
  {
   "cell_type": "markdown",
   "metadata": {
    "id": "s7_MCCbQt3uq"
   },
   "source": [
    "[Share Your Knowledge]"
   ]
  },
  {
   "cell_type": "markdown",
   "metadata": {
    "id": "0bbEFdGGIYZX"
   },
   "source": [
    "# Video Recording Link\n",
    "\n",
    "**A short (10 minutes max) recorded video where you explain your solution.\n",
    "Make sure your face is visible in the video, as if you’re presenting your\n",
    "work during a job interview.**\n",
    "\n",
    "[Share The Link Here]"
   ]
  },
  {
   "cell_type": "code",
   "execution_count": null,
   "metadata": {
    "id": "_cA93K-TUbcR"
   },
   "outputs": [],
   "source": []
  }
 ],
 "metadata": {
  "colab": {
   "provenance": []
  },
  "kernelspec": {
   "display_name": "Python 3",
   "name": "python3"
  },
  "language_info": {
   "codemirror_mode": {
    "name": "ipython",
    "version": 3
   },
   "file_extension": ".py",
   "mimetype": "text/x-python",
   "name": "python",
   "nbconvert_exporter": "python",
   "pygments_lexer": "ipython3",
   "version": "3.10.12"
  }
 },
 "nbformat": 4,
 "nbformat_minor": 0
}
