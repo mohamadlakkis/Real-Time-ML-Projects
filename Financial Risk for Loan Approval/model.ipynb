{
 "cells": [
  {
   "cell_type": "markdown",
   "metadata": {},
   "source": [
    "### Importing Libraries "
   ]
  },
  {
   "cell_type": "code",
   "execution_count": 1,
   "metadata": {},
   "outputs": [],
   "source": [
    "import pandas as pd\n",
    "from sklearn.preprocessing import  StandardScaler, LabelEncoder\n",
    "from sklearn.model_selection import train_test_split\n",
    "from torchsummary import summary\n",
    "from torch.utils.data import DataLoader, TensorDataset\n",
    "import matplotlib.pyplot as plt\n",
    "import seaborn as sns\n",
    "from sklearn.metrics import confusion_matrix\n",
    "import torch\n",
    "import torch.nn as nn\n",
    "import torch.optim as optim\n",
    "from imblearn.over_sampling import SMOTE"
   ]
  },
  {
   "cell_type": "markdown",
   "metadata": {},
   "source": [
    "### Loading Data and Cleaning "
   ]
  },
  {
   "cell_type": "code",
   "execution_count": 2,
   "metadata": {},
   "outputs": [
    {
     "name": "stdout",
     "output_type": "stream",
     "text": [
      "ApplicationDate\n",
      "EmploymentStatus\n",
      "EducationLevel\n",
      "MaritalStatus\n",
      "HomeOwnershipStatus\n",
      "LoanPurpose\n"
     ]
    },
    {
     "data": {
      "text/plain": [
       "((20000, 34), (20000,))"
      ]
     },
     "execution_count": 2,
     "metadata": {},
     "output_type": "execute_result"
    }
   ],
   "source": [
    "file_path = 'Loan.csv'\n",
    "df = pd.read_csv(file_path)\n",
    "missing_values = df.isnull().sum()\n",
    "# print(missing_values) # no missing values in the dataset\n",
    "# df.info()\n",
    "\n",
    "\n",
    "X = df.drop(columns=['LoanApproved', 'RiskScore'])\n",
    "y = df['LoanApproved']  \n",
    "\n",
    "# Label encoding for categorical columns\n",
    "le=LabelEncoder()\n",
    "for cols in X.select_dtypes('object').columns:\n",
    "    print(cols)\n",
    "    X[cols]=le.fit_transform(X[cols])\n",
    "\n",
    "# scaling of features\n",
    "scaler=StandardScaler()\n",
    "X=scaler.fit_transform(X)\n",
    "\n",
    "X.shape, y.shape"
   ]
  },
  {
   "cell_type": "markdown",
   "metadata": {},
   "source": [
    "### Splitting the data into training and testing sets "
   ]
  },
  {
   "cell_type": "code",
   "execution_count": 3,
   "metadata": {},
   "outputs": [
    {
     "data": {
      "text/plain": [
       "((24474, 34), (4000, 34), (24474,), (4000,))"
      ]
     },
     "execution_count": 3,
     "metadata": {},
     "output_type": "execute_result"
    }
   ],
   "source": [
    "X_train, X_test, y_train, y_test = train_test_split(X, y, test_size=0.2, random_state=42)\n",
    "\n",
    "'''We notice that the target variable is imbalanced. We will use SMOTE to balance the target variable.'''\n",
    "smote = SMOTE(random_state=42)\n",
    "X_train, y_train = smote.fit_resample(X_train, y_train)\n",
    "\n",
    "X_train.shape, X_test.shape, y_train.shape, y_test.shape"
   ]
  },
  {
   "cell_type": "markdown",
   "metadata": {},
   "source": [
    "### Creating The Neural Network "
   ]
  },
  {
   "cell_type": "code",
   "execution_count": 4,
   "metadata": {},
   "outputs": [
    {
     "name": "stdout",
     "output_type": "stream",
     "text": [
      "----------------------------------------------------------------\n",
      "        Layer (type)               Output Shape         Param #\n",
      "================================================================\n",
      "            Linear-1                   [-1, 32]           1,120\n",
      "              ReLU-2                   [-1, 32]               0\n",
      "            Linear-3                  [-1, 128]           4,224\n",
      "              ReLU-4                  [-1, 128]               0\n",
      "           Dropout-5                  [-1, 128]               0\n",
      "            Linear-6                   [-1, 32]           4,128\n",
      "              ReLU-7                   [-1, 32]               0\n",
      "            Linear-8                    [-1, 1]              33\n",
      "           Sigmoid-9                    [-1, 1]               0\n",
      "================================================================\n",
      "Total params: 9,505\n",
      "Trainable params: 9,505\n",
      "Non-trainable params: 0\n",
      "----------------------------------------------------------------\n",
      "Input size (MB): 0.00\n",
      "Forward/backward pass size (MB): 0.00\n",
      "Params size (MB): 0.04\n",
      "Estimated Total Size (MB): 0.04\n",
      "----------------------------------------------------------------\n"
     ]
    }
   ],
   "source": [
    "# Our Neural Network model\n",
    "class LoanApprovalNN(nn.Module):\n",
    "    def __init__(self):\n",
    "        super(LoanApprovalNN, self).__init__()\n",
    "        \n",
    "        ''' Defining our layers (3 hidden layers) and output layer'''\n",
    "        self.fc1 = nn.Linear(34, 32, bias=True)  # (34 inputs -> 32 neurons)  [[ Input to 1st hidden layer ]]\n",
    "        self.fc2 = nn.Linear(32, 128, bias=True)  # (32 neurons -> 128 neurons) [[ 1st hidden layer to 2nd hidden layer ]]\n",
    "        self.fc3 = nn.Linear(128, 32, bias=True)  # (128 neurons -> 32 neurons) [[ 2nd hidden layer to 3rd hidden layer ]]\n",
    "        self.output = nn.Linear(32, 1, bias=True)  # (32 neurons -> 1 neuron) [[ 3rd hidden layer to output layer ]] -> # 1 neuron designating the probability of loan approval = 1 \n",
    "        \n",
    "    \n",
    "        '''Dropout layer '''\n",
    "        self.dropout = nn.Dropout(p  = 0.4) \n",
    "\n",
    "        ''' Activation functions '''\n",
    "        self.relu = nn.ReLU()\n",
    "        self.sigmoid = nn.Sigmoid()\n",
    "\n",
    "        \n",
    "\n",
    "    def forward(self, x):\n",
    "        x = self.relu(self.fc1(x))  \n",
    "        x = self.relu(self.fc2(x))  \n",
    "        x = self.dropout(x) # Dropout is only applied during training. During evaluation ->  PyTorch will disable dropout.\n",
    "        x = self.relu(self.fc3(x))  \n",
    "        x = self.sigmoid(self.output(x))  \n",
    "        return x\n",
    "\n",
    "\n",
    "model = LoanApprovalNN()\n",
    "\n",
    "summary(model, input_size=(34,)) # notice that if you want to see the summary of the model, using batches say of 10 samples, you can do summary(model, input_size=(10, 34)), but in the summary above, we are using a single sample of 34 features\n",
    "# notice how to get the # of params in each layer you do the following: \n",
    "# in_features * number_nurons + bias(i.e.=number_of neurons) = # of params"
   ]
  },
  {
   "cell_type": "markdown",
   "metadata": {},
   "source": [
    "### Defining Losses and optimizers"
   ]
  },
  {
   "cell_type": "code",
   "execution_count": 5,
   "metadata": {},
   "outputs": [],
   "source": [
    "optimizer = optim.Adam(model.parameters(),lr=0.01)\n",
    "loss_function = nn.BCELoss()  # Binary Cross-Entropy Loss since we are working with binary classification"
   ]
  },
  {
   "cell_type": "markdown",
   "metadata": {},
   "source": [
    "### Preparing the data into DataLoader for pytorch ( for batch training )"
   ]
  },
  {
   "cell_type": "code",
   "execution_count": 6,
   "metadata": {},
   "outputs": [],
   "source": [
    "X_train_tensor = torch.tensor(X_train, dtype=torch.float32)\n",
    "y_train_tensor = torch.tensor(y_train.values, dtype=torch.float32).unsqueeze(1)  # making it [n, 1] shape\n",
    "\n",
    "'''We will divide the data into batches and shuffle the data'''\n",
    "train_dataset = TensorDataset(X_train_tensor, y_train_tensor) # this is just like zipping, so that when we shuffle, we shuffle both X and y (without loosing the order)\n",
    "train_loader = DataLoader(train_dataset, batch_size=32, shuffle=True) "
   ]
  },
  {
   "cell_type": "markdown",
   "metadata": {},
   "source": [
    "### The Training "
   ]
  },
  {
   "cell_type": "code",
   "execution_count": 7,
   "metadata": {},
   "outputs": [
    {
     "name": "stdout",
     "output_type": "stream",
     "text": [
      "Epoch 1 out of 40, Loss: 0.14682, Accuracy: 94.227%\n",
      "Epoch 2 out of 40, Loss: 0.11554, Accuracy: 95.612%\n",
      "Epoch 3 out of 40, Loss: 0.10576, Accuracy: 95.787%\n",
      "Epoch 4 out of 40, Loss: 0.10245, Accuracy: 96.024%\n",
      "Epoch 5 out of 40, Loss: 0.10013, Accuracy: 96.167%\n",
      "Epoch 6 out of 40, Loss: 0.09459, Accuracy: 96.302%\n",
      "Epoch 7 out of 40, Loss: 0.09142, Accuracy: 96.380%\n",
      "Epoch 8 out of 40, Loss: 0.09192, Accuracy: 96.359%\n",
      "Epoch 9 out of 40, Loss: 0.08471, Accuracy: 96.519%\n",
      "Epoch 10 out of 40, Loss: 0.08644, Accuracy: 96.580%\n",
      "Epoch 11 out of 40, Loss: 0.08944, Accuracy: 96.441%\n",
      "Epoch 12 out of 40, Loss: 0.08416, Accuracy: 96.743%\n",
      "Epoch 13 out of 40, Loss: 0.08015, Accuracy: 96.793%\n",
      "Epoch 14 out of 40, Loss: 0.07635, Accuracy: 96.915%\n",
      "Epoch 15 out of 40, Loss: 0.07596, Accuracy: 96.833%\n",
      "Epoch 16 out of 40, Loss: 0.07390, Accuracy: 97.013%\n",
      "Epoch 17 out of 40, Loss: 0.07580, Accuracy: 97.058%\n",
      "Epoch 18 out of 40, Loss: 0.07138, Accuracy: 97.123%\n",
      "Epoch 19 out of 40, Loss: 0.07146, Accuracy: 97.197%\n",
      "Epoch 20 out of 40, Loss: 0.07104, Accuracy: 97.185%\n",
      "Epoch 21 out of 40, Loss: 0.06814, Accuracy: 97.266%\n",
      "Epoch 22 out of 40, Loss: 0.06742, Accuracy: 97.397%\n",
      "Epoch 23 out of 40, Loss: 0.06635, Accuracy: 97.381%\n",
      "Epoch 24 out of 40, Loss: 0.06278, Accuracy: 97.520%\n",
      "Epoch 25 out of 40, Loss: 0.06625, Accuracy: 97.426%\n",
      "Epoch 26 out of 40, Loss: 0.06561, Accuracy: 97.524%\n",
      "Epoch 27 out of 40, Loss: 0.06338, Accuracy: 97.414%\n",
      "Epoch 28 out of 40, Loss: 0.06801, Accuracy: 97.266%\n",
      "Epoch 29 out of 40, Loss: 0.06170, Accuracy: 97.512%\n",
      "Epoch 30 out of 40, Loss: 0.06423, Accuracy: 97.344%\n",
      "Epoch 31 out of 40, Loss: 0.06278, Accuracy: 97.536%\n",
      "Epoch 32 out of 40, Loss: 0.05820, Accuracy: 97.638%\n",
      "Epoch 33 out of 40, Loss: 0.07146, Accuracy: 97.254%\n",
      "Epoch 34 out of 40, Loss: 0.06550, Accuracy: 97.524%\n",
      "Epoch 35 out of 40, Loss: 0.05774, Accuracy: 97.679%\n",
      "Epoch 36 out of 40, Loss: 0.05554, Accuracy: 97.720%\n",
      "Epoch 37 out of 40, Loss: 0.06220, Accuracy: 97.528%\n",
      "Epoch 38 out of 40, Loss: 0.06075, Accuracy: 97.724%\n",
      "Epoch 39 out of 40, Loss: 0.06605, Accuracy: 97.557%\n",
      "Epoch 40 out of 40, Loss: 0.06160, Accuracy: 97.777%\n"
     ]
    }
   ],
   "source": [
    "num_epochs = 40  # Number of epochs\n",
    "threshold = 0.5  # for the classification \n",
    "for epoch in range(num_epochs):\n",
    "    model.train()  # we previously said that pytorch will disable dropout during evaluation, so we need to set the model to training mode not testing mode, to activate these things like dropout\n",
    "\n",
    "    cum_loss = 0 # so once done it will contain the total cumulative loss for the epoch\n",
    "    correct = 0\n",
    "    total = len(train_loader.dataset)\n",
    "    \n",
    "    for inputs, targets in train_loader:\n",
    "        batch_size = inputs.size(0)\n",
    "        optimizer.zero_grad()  # Reset gradients to zero\n",
    "        \n",
    "        '''Forward pass'''\n",
    "        outputs = model(inputs)\n",
    "        loss = loss_function(outputs, targets)\n",
    "        \n",
    "\n",
    "        '''backward pass and update weights'''\n",
    "        loss.backward()\n",
    "        optimizer.step()\n",
    "        \n",
    "        '''Update our cumulative loss'''\n",
    "        cum_loss += loss.item() * batch_size # loss.item() This loss is the average loss over all samples in that batch. But since our total is the # of all samples, we need to multiply by the batch size to get the total loss for this batch (i.e. average_loss * batch_size)\n",
    "        \n",
    "\n",
    "        '''Accuracy'''\n",
    "        predicted = (outputs >= threshold).int()  \n",
    "        correct += (predicted == targets).sum().item() # sum up all the correct predictions in this batch\n",
    "        # note the .item() is used to get the value of the tensor as a python number (i.e. a scalar)\n",
    "    \n",
    "    \n",
    "    '''Average Accuracy for this epoch'''\n",
    "    epoch_loss = cum_loss / total\n",
    "    epoch_accuracy = correct / total * 100\n",
    "    \n",
    "    print(f'Epoch {epoch+1} out of {num_epochs}, Loss: {epoch_loss:.5f}, Accuracy: {epoch_accuracy:.3f}%')\n"
   ]
  },
  {
   "cell_type": "markdown",
   "metadata": {},
   "source": [
    "## Evaluation "
   ]
  },
  {
   "cell_type": "markdown",
   "metadata": {},
   "source": [
    "#### Preparding the testing data for batch testing (faster)"
   ]
  },
  {
   "cell_type": "code",
   "execution_count": 8,
   "metadata": {},
   "outputs": [],
   "source": [
    "X_test_tensor = torch.tensor(X_test, dtype=torch.float32)\n",
    "y_test_tensor = torch.tensor(y_test.values, dtype=torch.float32).unsqueeze(1)\n",
    "\n",
    "test_dataset = TensorDataset(X_test_tensor, y_test_tensor)\n",
    "test_loader = DataLoader(test_dataset, batch_size=64, shuffle=False)  # No need to shuffle for test data"
   ]
  },
  {
   "cell_type": "markdown",
   "metadata": {},
   "source": [
    "#### The testing "
   ]
  },
  {
   "cell_type": "code",
   "execution_count": 9,
   "metadata": {},
   "outputs": [
    {
     "name": "stdout",
     "output_type": "stream",
     "text": [
      "Test Loss: 0.2805\n",
      "Test Accuracy: 94.58%\n"
     ]
    },
    {
     "data": {
      "image/png": "[encoded data removed]",
      "text/plain": [
       "<Figure size 800x600 with 1 Axes>"
      ]
     },
     "metadata": {},
     "output_type": "display_data"
    }
   ],
   "source": [
    "model.eval() # to let the model know that we are in evaluation mode, so that dropout is disabled for example \n",
    "\n",
    "test_loss = 0\n",
    "correct = 0\n",
    "total = 0\n",
    "all_preds = []\n",
    "all_true = []\n",
    "\n",
    "# the \"with\" is to define a scope where the gradients are not computed, # instead we can generalize to use torch.set_grad_enabled(False)\n",
    "with torch.no_grad(): # If we don’t use torch.no_grad() during evaluation, PyTorch will still compute and store gradients, even though we won’t use them. (NOT EFFICIENT)\n",
    "    for inputs, targets in test_loader:  \n",
    "        batch_size = inputs.size(0)\n",
    "\n",
    "        # Forward pass\n",
    "        outputs = model(inputs)\n",
    "        \n",
    "        \n",
    "        loss = loss_function(outputs, targets)\n",
    "        test_loss += loss.item() * batch_size \n",
    "        predicted = (outputs >= threshold).int()\n",
    "        correct += (predicted == targets).sum().item()\n",
    "        # predictions and true labels (for confusion matrix)\n",
    "        all_preds.extend(predicted.cpu().numpy())\n",
    "        all_true.extend(targets.cpu().numpy())\n",
    "        \n",
    "        \n",
    "        \n",
    "total = len(test_loader.dataset)\n",
    "average_loss = test_loss / total\n",
    "accuracy = correct / total * 100\n",
    "conf_matrix = confusion_matrix(all_true, all_preds)\n",
    "\n",
    "\n",
    "print(f'Test Loss: {average_loss:.4f}')\n",
    "print(f'Test Accuracy: {accuracy:.2f}%')\n",
    "\n",
    "# Plotting the confusion matrix\n",
    "plt.figure(figsize=(8, 6))\n",
    "sns.heatmap(conf_matrix, annot=True, fmt='d', cmap='Blues', cbar=False, \n",
    "            xticklabels=['Predicted 0', 'Predicted 1'], \n",
    "            yticklabels=['Actual 0', 'Actual 1'])\n",
    "plt.xlabel('Predicted Label')\n",
    "plt.ylabel('True Label')\n",
    "plt.title('Confusion Matrix')\n",
    "plt.show()"
   ]
  }
 ],
 "metadata": {
  "kernelspec": {
   "display_name": "Python 3",
   "language": "python",
   "name": "python3"
  },
  "language_info": {
   "codemirror_mode": {
    "name": "ipython",
    "version": 3
   },
   "file_extension": ".py",
   "mimetype": "text/x-python",
   "name": "python",
   "nbconvert_exporter": "python",
   "pygments_lexer": "ipython3",
   "version": "3.8.10"
  }
 },
 "nbformat": 4,
 "nbformat_minor": 2
}
